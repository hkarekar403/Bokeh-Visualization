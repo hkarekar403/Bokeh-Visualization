{
 "cells": [
  {
   "cell_type": "code",
   "execution_count": 4,
   "id": "ca8c6ab4",
   "metadata": {},
   "outputs": [
    {
     "name": "stdout",
     "output_type": "stream",
     "text": [
      "   Unnamed: 0 country iso_code        date  total_vaccinations  \\\n",
      "0       20409   India      IND  2021-01-15                 0.0   \n",
      "1       20410   India      IND  2021-01-16            191181.0   \n",
      "2       20411   India      IND  2021-01-17            224301.0   \n",
      "3       20412   India      IND  2021-01-18            454049.0   \n",
      "4       20413   India      IND  2021-01-19            674835.0   \n",
      "\n",
      "   people_vaccinated  people_fully_vaccinated  daily_vaccinations_raw  \\\n",
      "0                0.0                      NaN                     NaN   \n",
      "1           191181.0                      NaN                191181.0   \n",
      "2           224301.0                      NaN                 33120.0   \n",
      "3           454049.0                      NaN                229748.0   \n",
      "4           674835.0                      NaN                220786.0   \n",
      "\n",
      "   daily_vaccinations  total_vaccinations_per_hundred  \\\n",
      "0                 NaN                            0.00   \n",
      "1            191181.0                            0.01   \n",
      "2            112150.0                            0.02   \n",
      "3            151350.0                            0.03   \n",
      "4            168709.0                            0.05   \n",
      "\n",
      "   people_vaccinated_per_hundred  people_fully_vaccinated_per_hundred  \\\n",
      "0                           0.00                                  NaN   \n",
      "1                           0.01                                  NaN   \n",
      "2                           0.02                                  NaN   \n",
      "3                           0.03                                  NaN   \n",
      "4                           0.05                                  NaN   \n",
      "\n",
      "   daily_vaccinations_per_million                                vaccines  \\\n",
      "0                             NaN  Covaxin, Oxford/AstraZeneca, Sputnik V   \n",
      "1                           137.0  Covaxin, Oxford/AstraZeneca, Sputnik V   \n",
      "2                            80.0  Covaxin, Oxford/AstraZeneca, Sputnik V   \n",
      "3                           109.0  Covaxin, Oxford/AstraZeneca, Sputnik V   \n",
      "4                           121.0  Covaxin, Oxford/AstraZeneca, Sputnik V   \n",
      "\n",
      "           source_name                   source_website  \n",
      "0  Government of India  https://dashboard.cowin.gov.in/  \n",
      "1  Government of India  https://dashboard.cowin.gov.in/  \n",
      "2  Government of India  https://dashboard.cowin.gov.in/  \n",
      "3  Government of India  https://dashboard.cowin.gov.in/  \n",
      "4  Government of India  https://dashboard.cowin.gov.in/  \n"
     ]
    }
   ],
   "source": [
    "import datetime as dt\n",
    "import pandas as pd\n",
    "import bokeh as bk\n",
    "\n",
    "\n",
    "df = pd.read_csv(\"Country_X.csv\")\n",
    "\n",
    "print(df.head())\n",
    "\n",
    "\n"
   ]
  },
  {
   "cell_type": "code",
   "execution_count": null,
   "id": "9d07dafb",
   "metadata": {},
   "outputs": [],
   "source": []
  }
 ],
 "metadata": {
  "kernelspec": {
   "display_name": "Python 3 (ipykernel)",
   "language": "python",
   "name": "python3"
  },
  "language_info": {
   "codemirror_mode": {
    "name": "ipython",
    "version": 3
   },
   "file_extension": ".py",
   "mimetype": "text/x-python",
   "name": "python",
   "nbconvert_exporter": "python",
   "pygments_lexer": "ipython3",
   "version": "3.9.7"
  }
 },
 "nbformat": 4,
 "nbformat_minor": 5
}
